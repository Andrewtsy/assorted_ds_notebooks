{
 "cells": [
  {
   "cell_type": "code",
   "execution_count": 1,
   "id": "5e1670b7-176d-4589-b741-d0a60f6bdf0d",
   "metadata": {},
   "outputs": [],
   "source": [
    "import pandas as pd\n",
    "import numpy as np\n",
    "import time\n",
    "import librosa\n",
    "import librosa.display\n",
    "import matplotlib.pyplot as plt\n",
    "from sklearn.model_selection import train_test_split\n",
    "from sklearn.preprocessing import normalize\n",
    "import warnings\n",
    "import tensorflow\n",
    "from tensorflow.keras.layers import Dense, LSTM\n",
    "from tensorflow import keras"
   ]
  },
  {
   "cell_type": "code",
   "execution_count": 2,
   "id": "c79742db-4b70-4796-9e79-2dfe68069e31",
   "metadata": {},
   "outputs": [],
   "source": [
    "df = pd.read_csv('train_tp.csv')"
   ]
  },
  {
   "cell_type": "code",
   "execution_count": 3,
   "id": "fe177ac9-8466-4f96-bfff-6040c30f34b2",
   "metadata": {},
   "outputs": [
    {
     "data": {
      "text/plain": [
       "8512"
      ]
     },
     "execution_count": 3,
     "metadata": {},
     "output_type": "execute_result"
    }
   ],
   "source": [
    "df.size"
   ]
  },
  {
   "cell_type": "code",
   "execution_count": 4,
   "id": "9618c1ef-98e2-44a2-864d-5590c8922e92",
   "metadata": {},
   "outputs": [
    {
     "data": {
      "text/html": [
       "<div>\n",
       "<style scoped>\n",
       "    .dataframe tbody tr th:only-of-type {\n",
       "        vertical-align: middle;\n",
       "    }\n",
       "\n",
       "    .dataframe tbody tr th {\n",
       "        vertical-align: top;\n",
       "    }\n",
       "\n",
       "    .dataframe thead th {\n",
       "        text-align: right;\n",
       "    }\n",
       "</style>\n",
       "<table border=\"1\" class=\"dataframe\">\n",
       "  <thead>\n",
       "    <tr style=\"text-align: right;\">\n",
       "      <th></th>\n",
       "      <th>recording_id</th>\n",
       "      <th>species_id</th>\n",
       "      <th>songtype_id</th>\n",
       "      <th>t_min</th>\n",
       "      <th>f_min</th>\n",
       "      <th>t_max</th>\n",
       "      <th>f_max</th>\n",
       "    </tr>\n",
       "  </thead>\n",
       "  <tbody>\n",
       "    <tr>\n",
       "      <th>0</th>\n",
       "      <td>003bec244</td>\n",
       "      <td>14</td>\n",
       "      <td>1</td>\n",
       "      <td>44.5440</td>\n",
       "      <td>2531.250</td>\n",
       "      <td>45.1307</td>\n",
       "      <td>5531.25</td>\n",
       "    </tr>\n",
       "    <tr>\n",
       "      <th>1</th>\n",
       "      <td>006ab765f</td>\n",
       "      <td>23</td>\n",
       "      <td>1</td>\n",
       "      <td>39.9615</td>\n",
       "      <td>7235.160</td>\n",
       "      <td>46.0452</td>\n",
       "      <td>11283.40</td>\n",
       "    </tr>\n",
       "    <tr>\n",
       "      <th>2</th>\n",
       "      <td>007f87ba2</td>\n",
       "      <td>12</td>\n",
       "      <td>1</td>\n",
       "      <td>39.1360</td>\n",
       "      <td>562.500</td>\n",
       "      <td>42.2720</td>\n",
       "      <td>3281.25</td>\n",
       "    </tr>\n",
       "    <tr>\n",
       "      <th>3</th>\n",
       "      <td>0099c367b</td>\n",
       "      <td>17</td>\n",
       "      <td>4</td>\n",
       "      <td>51.4206</td>\n",
       "      <td>1464.260</td>\n",
       "      <td>55.1996</td>\n",
       "      <td>4565.04</td>\n",
       "    </tr>\n",
       "    <tr>\n",
       "      <th>4</th>\n",
       "      <td>009b760e6</td>\n",
       "      <td>10</td>\n",
       "      <td>1</td>\n",
       "      <td>50.0854</td>\n",
       "      <td>947.461</td>\n",
       "      <td>52.5293</td>\n",
       "      <td>10852.70</td>\n",
       "    </tr>\n",
       "    <tr>\n",
       "      <th>...</th>\n",
       "      <td>...</td>\n",
       "      <td>...</td>\n",
       "      <td>...</td>\n",
       "      <td>...</td>\n",
       "      <td>...</td>\n",
       "      <td>...</td>\n",
       "      <td>...</td>\n",
       "    </tr>\n",
       "    <tr>\n",
       "      <th>1211</th>\n",
       "      <td>fe8d9ac40</td>\n",
       "      <td>13</td>\n",
       "      <td>1</td>\n",
       "      <td>53.4720</td>\n",
       "      <td>93.750</td>\n",
       "      <td>54.0960</td>\n",
       "      <td>843.75</td>\n",
       "    </tr>\n",
       "    <tr>\n",
       "      <th>1212</th>\n",
       "      <td>fea6b438a</td>\n",
       "      <td>4</td>\n",
       "      <td>1</td>\n",
       "      <td>43.5787</td>\n",
       "      <td>2531.250</td>\n",
       "      <td>45.7653</td>\n",
       "      <td>4031.25</td>\n",
       "    </tr>\n",
       "    <tr>\n",
       "      <th>1213</th>\n",
       "      <td>ff2eb9ce5</td>\n",
       "      <td>0</td>\n",
       "      <td>1</td>\n",
       "      <td>15.2267</td>\n",
       "      <td>5906.250</td>\n",
       "      <td>16.0213</td>\n",
       "      <td>8250.00</td>\n",
       "    </tr>\n",
       "    <tr>\n",
       "      <th>1214</th>\n",
       "      <td>ffb8d8391</td>\n",
       "      <td>5</td>\n",
       "      <td>1</td>\n",
       "      <td>14.3467</td>\n",
       "      <td>4781.250</td>\n",
       "      <td>16.6987</td>\n",
       "      <td>10406.20</td>\n",
       "    </tr>\n",
       "    <tr>\n",
       "      <th>1215</th>\n",
       "      <td>ffb9a7b9a</td>\n",
       "      <td>18</td>\n",
       "      <td>1</td>\n",
       "      <td>40.3200</td>\n",
       "      <td>3187.500</td>\n",
       "      <td>41.0133</td>\n",
       "      <td>5062.50</td>\n",
       "    </tr>\n",
       "  </tbody>\n",
       "</table>\n",
       "<p>1216 rows × 7 columns</p>\n",
       "</div>"
      ],
      "text/plain": [
       "     recording_id  species_id  songtype_id    t_min     f_min    t_max  \\\n",
       "0       003bec244          14            1  44.5440  2531.250  45.1307   \n",
       "1       006ab765f          23            1  39.9615  7235.160  46.0452   \n",
       "2       007f87ba2          12            1  39.1360   562.500  42.2720   \n",
       "3       0099c367b          17            4  51.4206  1464.260  55.1996   \n",
       "4       009b760e6          10            1  50.0854   947.461  52.5293   \n",
       "...           ...         ...          ...      ...       ...      ...   \n",
       "1211    fe8d9ac40          13            1  53.4720    93.750  54.0960   \n",
       "1212    fea6b438a           4            1  43.5787  2531.250  45.7653   \n",
       "1213    ff2eb9ce5           0            1  15.2267  5906.250  16.0213   \n",
       "1214    ffb8d8391           5            1  14.3467  4781.250  16.6987   \n",
       "1215    ffb9a7b9a          18            1  40.3200  3187.500  41.0133   \n",
       "\n",
       "         f_max  \n",
       "0      5531.25  \n",
       "1     11283.40  \n",
       "2      3281.25  \n",
       "3      4565.04  \n",
       "4     10852.70  \n",
       "...        ...  \n",
       "1211    843.75  \n",
       "1212   4031.25  \n",
       "1213   8250.00  \n",
       "1214  10406.20  \n",
       "1215   5062.50  \n",
       "\n",
       "[1216 rows x 7 columns]"
      ]
     },
     "execution_count": 4,
     "metadata": {},
     "output_type": "execute_result"
    }
   ],
   "source": [
    "df"
   ]
  },
  {
   "cell_type": "code",
   "execution_count": 5,
   "id": "e168f643-3c7d-4a6b-a6dd-fe3dbec76bfb",
   "metadata": {},
   "outputs": [],
   "source": [
    "df.drop(index=[i for i in range(120, 1216)], inplace=True)"
   ]
  },
  {
   "cell_type": "code",
   "execution_count": 6,
   "id": "702bbdf4-0136-4772-8c48-40471114f627",
   "metadata": {},
   "outputs": [
    {
     "data": {
      "text/html": [
       "<div>\n",
       "<style scoped>\n",
       "    .dataframe tbody tr th:only-of-type {\n",
       "        vertical-align: middle;\n",
       "    }\n",
       "\n",
       "    .dataframe tbody tr th {\n",
       "        vertical-align: top;\n",
       "    }\n",
       "\n",
       "    .dataframe thead th {\n",
       "        text-align: right;\n",
       "    }\n",
       "</style>\n",
       "<table border=\"1\" class=\"dataframe\">\n",
       "  <thead>\n",
       "    <tr style=\"text-align: right;\">\n",
       "      <th></th>\n",
       "      <th>recording_id</th>\n",
       "      <th>species_id</th>\n",
       "      <th>songtype_id</th>\n",
       "      <th>t_min</th>\n",
       "      <th>f_min</th>\n",
       "      <th>t_max</th>\n",
       "      <th>f_max</th>\n",
       "    </tr>\n",
       "  </thead>\n",
       "  <tbody>\n",
       "    <tr>\n",
       "      <th>0</th>\n",
       "      <td>003bec244</td>\n",
       "      <td>14</td>\n",
       "      <td>1</td>\n",
       "      <td>44.5440</td>\n",
       "      <td>2531.250</td>\n",
       "      <td>45.1307</td>\n",
       "      <td>5531.25</td>\n",
       "    </tr>\n",
       "    <tr>\n",
       "      <th>1</th>\n",
       "      <td>006ab765f</td>\n",
       "      <td>23</td>\n",
       "      <td>1</td>\n",
       "      <td>39.9615</td>\n",
       "      <td>7235.160</td>\n",
       "      <td>46.0452</td>\n",
       "      <td>11283.40</td>\n",
       "    </tr>\n",
       "    <tr>\n",
       "      <th>2</th>\n",
       "      <td>007f87ba2</td>\n",
       "      <td>12</td>\n",
       "      <td>1</td>\n",
       "      <td>39.1360</td>\n",
       "      <td>562.500</td>\n",
       "      <td>42.2720</td>\n",
       "      <td>3281.25</td>\n",
       "    </tr>\n",
       "    <tr>\n",
       "      <th>3</th>\n",
       "      <td>0099c367b</td>\n",
       "      <td>17</td>\n",
       "      <td>4</td>\n",
       "      <td>51.4206</td>\n",
       "      <td>1464.260</td>\n",
       "      <td>55.1996</td>\n",
       "      <td>4565.04</td>\n",
       "    </tr>\n",
       "    <tr>\n",
       "      <th>4</th>\n",
       "      <td>009b760e6</td>\n",
       "      <td>10</td>\n",
       "      <td>1</td>\n",
       "      <td>50.0854</td>\n",
       "      <td>947.461</td>\n",
       "      <td>52.5293</td>\n",
       "      <td>10852.70</td>\n",
       "    </tr>\n",
       "    <tr>\n",
       "      <th>...</th>\n",
       "      <td>...</td>\n",
       "      <td>...</td>\n",
       "      <td>...</td>\n",
       "      <td>...</td>\n",
       "      <td>...</td>\n",
       "      <td>...</td>\n",
       "      <td>...</td>\n",
       "    </tr>\n",
       "    <tr>\n",
       "      <th>115</th>\n",
       "      <td>178b835e3</td>\n",
       "      <td>16</td>\n",
       "      <td>4</td>\n",
       "      <td>4.2560</td>\n",
       "      <td>3093.750</td>\n",
       "      <td>6.0907</td>\n",
       "      <td>4593.75</td>\n",
       "    </tr>\n",
       "    <tr>\n",
       "      <th>116</th>\n",
       "      <td>1795728ba</td>\n",
       "      <td>5</td>\n",
       "      <td>1</td>\n",
       "      <td>39.5680</td>\n",
       "      <td>4781.250</td>\n",
       "      <td>41.9200</td>\n",
       "      <td>10406.20</td>\n",
       "    </tr>\n",
       "    <tr>\n",
       "      <th>117</th>\n",
       "      <td>17ca62c97</td>\n",
       "      <td>4</td>\n",
       "      <td>1</td>\n",
       "      <td>32.9173</td>\n",
       "      <td>2343.750</td>\n",
       "      <td>34.7733</td>\n",
       "      <td>4218.75</td>\n",
       "    </tr>\n",
       "    <tr>\n",
       "      <th>118</th>\n",
       "      <td>17ca96791</td>\n",
       "      <td>16</td>\n",
       "      <td>4</td>\n",
       "      <td>13.6320</td>\n",
       "      <td>3093.750</td>\n",
       "      <td>15.4667</td>\n",
       "      <td>4593.75</td>\n",
       "    </tr>\n",
       "    <tr>\n",
       "      <th>119</th>\n",
       "      <td>180ba3012</td>\n",
       "      <td>6</td>\n",
       "      <td>1</td>\n",
       "      <td>48.3520</td>\n",
       "      <td>562.500</td>\n",
       "      <td>50.4960</td>\n",
       "      <td>4406.25</td>\n",
       "    </tr>\n",
       "  </tbody>\n",
       "</table>\n",
       "<p>120 rows × 7 columns</p>\n",
       "</div>"
      ],
      "text/plain": [
       "    recording_id  species_id  songtype_id    t_min     f_min    t_max  \\\n",
       "0      003bec244          14            1  44.5440  2531.250  45.1307   \n",
       "1      006ab765f          23            1  39.9615  7235.160  46.0452   \n",
       "2      007f87ba2          12            1  39.1360   562.500  42.2720   \n",
       "3      0099c367b          17            4  51.4206  1464.260  55.1996   \n",
       "4      009b760e6          10            1  50.0854   947.461  52.5293   \n",
       "..           ...         ...          ...      ...       ...      ...   \n",
       "115    178b835e3          16            4   4.2560  3093.750   6.0907   \n",
       "116    1795728ba           5            1  39.5680  4781.250  41.9200   \n",
       "117    17ca62c97           4            1  32.9173  2343.750  34.7733   \n",
       "118    17ca96791          16            4  13.6320  3093.750  15.4667   \n",
       "119    180ba3012           6            1  48.3520   562.500  50.4960   \n",
       "\n",
       "        f_max  \n",
       "0     5531.25  \n",
       "1    11283.40  \n",
       "2     3281.25  \n",
       "3     4565.04  \n",
       "4    10852.70  \n",
       "..        ...  \n",
       "115   4593.75  \n",
       "116  10406.20  \n",
       "117   4218.75  \n",
       "118   4593.75  \n",
       "119   4406.25  \n",
       "\n",
       "[120 rows x 7 columns]"
      ]
     },
     "metadata": {},
     "output_type": "display_data"
    }
   ],
   "source": [
    "display(df)"
   ]
  },
  {
   "cell_type": "code",
   "execution_count": 7,
   "id": "15ad22e0-eeb4-47b2-8845-ce0fa0af09a9",
   "metadata": {
    "tags": []
   },
   "outputs": [],
   "source": [
    "# for fname in df['recording_id']:\n",
    "#     fname = ''.join(('/train/', fname, '.flac'))\n",
    "#     !kaggle competitions download -f $fname -c rfcx-species-audio-detection\n",
    "#     time.sleep(2.5)"
   ]
  },
  {
   "cell_type": "code",
   "execution_count": 8,
   "id": "2c50f596-b00c-4765-b5fb-5806a7a931ed",
   "metadata": {},
   "outputs": [
    {
     "data": {
      "text/plain": [
       "'003bec244.flac'"
      ]
     },
     "metadata": {},
     "output_type": "display_data"
    }
   ],
   "source": [
    "sample_num = 0\n",
    "fname = ''.join((df.recording_id[sample_num], '.flac'))\n",
    "display(fname)"
   ]
  },
  {
   "cell_type": "code",
   "execution_count": 9,
   "id": "1b54da17-fef7-4b2f-86dc-3fe9d1cf3f44",
   "metadata": {
    "tags": []
   },
   "outputs": [
    {
     "data": {
      "text/plain": [
       "<matplotlib.collections.PolyCollection at 0x1ee82b113a0>"
      ]
     },
     "execution_count": 9,
     "metadata": {},
     "output_type": "execute_result"
    },
    {
     "data": {
      "image/png": "[encoded data removed]",
      "text/plain": [
       "<Figure size 432x288 with 1 Axes>"
      ]
     },
     "metadata": {
      "needs_background": "light"
     },
     "output_type": "display_data"
    }
   ],
   "source": [
    "tstart = df.t_min[sample_num]\n",
    "tend = df.t_max[sample_num]\n",
    "y, sr = librosa.load(''.join(('train/', fname, '/', fname)))\n",
    "librosa.display.waveplot(y, sr=sr, x_axis='time', color='purple', offset = 0.0)"
   ]
  },
  {
   "cell_type": "code",
   "execution_count": 10,
   "id": "ca2ba073-6edb-4f97-b9e1-f51b4e414756",
   "metadata": {},
   "outputs": [
    {
     "name": "stderr",
     "output_type": "stream",
     "text": [
      "C:\\Users\\Andrew\\anaconda3\\envs\\tutorial\\lib\\site-packages\\librosa\\filters.py:238: UserWarning: Empty filters detected in mel frequency basis. Some channels will produce empty responses. Try increasing your sampling rate (and fmax) or reducing n_mels.\n",
      "  warnings.warn(\n"
     ]
    },
    {
     "data": {
      "image/png": "[encoded data removed]",
      "text/plain": [
       "<Figure size 1440x504 with 2 Axes>"
      ]
     },
     "metadata": {
      "needs_background": "light"
     },
     "output_type": "display_data"
    }
   ],
   "source": [
    "hop_length = 512\n",
    "n_fft = 255\n",
    "\n",
    "y_cut = y[int(round(tstart * sr)): int(round(tend * sr))]\n",
    "MFCCs = librosa.feature.mfcc(y_cut, n_fft=n_fft, hop_length=hop_length, n_mfcc=128)\n",
    "fig, ax = plt.subplots(figsize = (20, 7))\n",
    "librosa.display.specshow(MFCCs, sr=sr, cmap='cool', hop_length=hop_length)\n",
    "\n",
    "ax.set_xlabel('Time', fontsize=15)\n",
    "ax.set_title('MFCC', size=20)\n",
    "\n",
    "plt.colorbar()\n",
    "plt.show()"
   ]
  },
  {
   "cell_type": "code",
   "execution_count": 11,
   "id": "3239d793-eaa4-4574-96ba-8b9d557aa7e2",
   "metadata": {},
   "outputs": [],
   "source": [
    "def padding(array, xx, yy):\n",
    "\n",
    "    h = array.shape[0]\n",
    "    w = array.shape[1]\n",
    "\n",
    "    a = (xx - h) // 2\n",
    "    aa = xx - a - h\n",
    "\n",
    "    b = (yy - w) // 2\n",
    "    bb = yy - b - w\n",
    "\n",
    "    return np.pad(array, pad_width=((a, aa), (b, bb)), mode='constant')"
   ]
  },
  {
   "cell_type": "code",
   "execution_count": 12,
   "id": "e6b77f48-2a10-4d6d-8ae3-9d5b39829943",
   "metadata": {
    "tags": []
   },
   "outputs": [],
   "source": [
    "def get_features(df):\n",
    "    features = []\n",
    "    labels = []\n",
    "    for i in range(0, len(df)):\n",
    "        fname = df.iloc[i]['recording_id'] + '.flac'\n",
    "        tstart = df.iloc[i]['t_min']\n",
    "        tend = df.iloc[i]['t_max']\n",
    "        species_id = df.iloc[i]['species_id']\n",
    "        try:\n",
    "            y, sr = librosa.load(''.join(('train/', fname, '/', fname)), sr=28000)\n",
    "        except:\n",
    "            print(f'{fname} was not able to be loaded')\n",
    "            pass\n",
    "        y_cut = y[int(round(tstart * sr)): int(round(tend * sr))]\n",
    "        data = np.array(librosa.feature.mfcc(y_cut, n_fft=n_fft, hop_length=hop_length, n_mfcc=128))\n",
    "        features.append(data)\n",
    "        labels.append(species_id)\n",
    "    return (features, labels)"
   ]
  },
  {
   "cell_type": "code",
   "execution_count": 13,
   "id": "eebc7093-cbe0-4cc8-93ea-4ac0bfdaa96b",
   "metadata": {},
   "outputs": [
    {
     "name": "stderr",
     "output_type": "stream",
     "text": [
      "C:\\Users\\Andrew\\anaconda3\\envs\\tutorial\\lib\\site-packages\\librosa\\core\\audio.py:165: UserWarning: PySoundFile failed. Trying audioread instead.\n",
      "  warnings.warn(\"PySoundFile failed. Trying audioread instead.\")\n"
     ]
    },
    {
     "name": "stdout",
     "output_type": "stream",
     "text": [
      "55088446.flac was not able to be loaded\n",
      "78788674.flac was not able to be loaded\n"
     ]
    }
   ],
   "source": [
    "x, y = get_features(df)"
   ]
  },
  {
   "cell_type": "code",
   "execution_count": 25,
   "id": "0db68901-3e80-444f-8801-971b525a05f0",
   "metadata": {},
   "outputs": [
    {
     "data": {
      "text/plain": [
       "120"
      ]
     },
     "execution_count": 25,
     "metadata": {},
     "output_type": "execute_result"
    }
   ],
   "source": [
    "len(x)"
   ]
  },
  {
   "cell_type": "code",
   "execution_count": 26,
   "id": "5a106d5c-7b59-40a3-bb93-88f8280ea18b",
   "metadata": {},
   "outputs": [],
   "source": [
    "X = np.array([padding(i, 128, 450) for i in x])"
   ]
  },
  {
   "cell_type": "code",
   "execution_count": 27,
   "id": "be18bc76-52b3-4e8c-a449-27a5ba19522e",
   "metadata": {},
   "outputs": [
    {
     "data": {
      "text/plain": [
       "(120, 128, 450)"
      ]
     },
     "execution_count": 27,
     "metadata": {},
     "output_type": "execute_result"
    }
   ],
   "source": [
    "X.shape"
   ]
  },
  {
   "cell_type": "code",
   "execution_count": 28,
   "id": "52f9eaa1-b260-40a9-9c2e-00215246738a",
   "metadata": {},
   "outputs": [],
   "source": [
    "X = np.array((X - np.min(X)) / (np.max(X) - np.min(X)))\n",
    "X = X / np.std(X)\n",
    "y = np.array(y)"
   ]
  },
  {
   "cell_type": "code",
   "execution_count": 29,
   "id": "80f66594-438a-459e-bba3-45fa756f2555",
   "metadata": {},
   "outputs": [
    {
     "data": {
      "text/plain": [
       "(120, 128, 450)"
      ]
     },
     "execution_count": 29,
     "metadata": {},
     "output_type": "execute_result"
    }
   ],
   "source": [
    "X.shape"
   ]
  },
  {
   "cell_type": "code",
   "execution_count": 30,
   "id": "7bc99521-b0e9-4a5d-be2d-45ed5c78a80f",
   "metadata": {},
   "outputs": [
    {
     "data": {
      "text/plain": [
       "array([14, 23, 12, 17, 10,  8,  0, 18, 15,  1], dtype=int64)"
      ]
     },
     "execution_count": 30,
     "metadata": {},
     "output_type": "execute_result"
    }
   ],
   "source": [
    "y[:10]"
   ]
  },
  {
   "cell_type": "code",
   "execution_count": 79,
   "id": "5287abbd-92f0-47b4-8213-83153ae567bd",
   "metadata": {},
   "outputs": [],
   "source": [
    "x_train, x_test = X[:100], X[101:]\n",
    "y_train, y_test = y[:100], y[101:]"
   ]
  },
  {
   "cell_type": "code",
   "execution_count": 33,
   "id": "04ad0068-4581-4089-9ab7-a7f97f46a983",
   "metadata": {},
   "outputs": [
    {
     "data": {
      "text/plain": [
       "(100, 128, 450)"
      ]
     },
     "execution_count": 33,
     "metadata": {},
     "output_type": "execute_result"
    }
   ],
   "source": [
    "x_train.shape"
   ]
  },
  {
   "cell_type": "code",
   "execution_count": 61,
   "id": "ddeb9364-5fe6-4853-8c54-e745dcab265c",
   "metadata": {},
   "outputs": [
    {
     "name": "stdout",
     "output_type": "stream",
     "text": [
      "[[23.831715 23.831715 23.831715 ... 23.831715 23.831715 23.831715]\n",
      " [23.831715 23.831715 23.831715 ... 23.831715 23.831715 23.831715]\n",
      " [23.831715 23.831715 23.831715 ... 23.831715 23.831715 23.831715]\n",
      " ...\n",
      " [23.831715 23.831715 23.831715 ... 23.831715 23.831715 23.831715]\n",
      " [23.831715 23.831715 23.831715 ... 23.831715 23.831715 23.831715]\n",
      " [23.831715 23.831715 23.831715 ... 23.831715 23.831715 23.831715]]\n"
     ]
    }
   ],
   "source": [
    "print(x_train[0])"
   ]
  },
  {
   "cell_type": "code",
   "execution_count": 111,
   "id": "84de15e6-3d79-4093-92c0-9479dc24ec34",
   "metadata": {},
   "outputs": [],
   "source": [
    "Y_train = np.array([[1 if i == j else 0 for i in range(128)] for j in y_train])"
   ]
  },
  {
   "cell_type": "code",
   "execution_count": 112,
   "id": "3fd034c5-b5da-4915-891e-e9d716fcdec1",
   "metadata": {},
   "outputs": [],
   "source": [
    "Y_test = np.array([[1 if i == j else 0 for i in range(128)] for j in y_test])"
   ]
  },
  {
   "cell_type": "code",
   "execution_count": 113,
   "id": "7ecbdf0e-2183-4509-a8ab-9dcaac8c739e",
   "metadata": {},
   "outputs": [
    {
     "name": "stdout",
     "output_type": "stream",
     "text": [
      "Model: \"sequential_13\"\n",
      "_________________________________________________________________\n",
      "Layer (type)                 Output Shape              Param #   \n",
      "=================================================================\n",
      "dense_27 (Dense)             (None, 128, 32)           14432     \n",
      "_________________________________________________________________\n",
      "dense_28 (Dense)             (None, 128, 24)           792       \n",
      "=================================================================\n",
      "Total params: 15,224\n",
      "Trainable params: 15,224\n",
      "Non-trainable params: 0\n",
      "_________________________________________________________________\n"
     ]
    }
   ],
   "source": [
    "model = 0\n",
    "input_shape=(128,450)\n",
    "model = tensorflow.keras.Sequential()\n",
    "model.add(Dense(32,input_shape=input_shape))\n",
    "model.add(Dense(24, activation='softmax'))\n",
    "\n",
    "model.compile(optimizer='adam', loss='SparseCategoricalCrossentropy', metrics=['acc'])\n",
    "\n",
    "model.summary()"
   ]
  },
  {
   "cell_type": "code",
   "execution_count": 114,
   "id": "3b50782b-f29d-4f79-b5c5-55ea52f463fa",
   "metadata": {
    "tags": []
   },
   "outputs": [
    {
     "name": "stdout",
     "output_type": "stream",
     "text": [
      "Epoch 1/5\n",
      "4/4 [==============================] - 1s 10ms/step - loss: 81.4303 - acc: 0.0397\n",
      "Epoch 2/5\n",
      "4/4 [==============================] - 0s 9ms/step - loss: 0.6391 - acc: 0.9921\n",
      "Epoch 3/5\n",
      "4/4 [==============================] - 0s 6ms/step - loss: 1.2527 - acc: 0.9922\n",
      "Epoch 4/5\n",
      "4/4 [==============================] - 0s 11ms/step - loss: 1.5898 - acc: 0.9922\n",
      "Epoch 5/5\n",
      "4/4 [==============================] - 0s 6ms/step - loss: 1.7641 - acc: 0.9922\n"
     ]
    }
   ],
   "source": [
    "history = model.fit(x_train, Y_train, epochs=5)"
   ]
  },
  {
   "cell_type": "code",
   "execution_count": 118,
   "id": "489a6c71-e9d8-43a6-8aa6-419484e1e13e",
   "metadata": {},
   "outputs": [],
   "source": [
    "preds = model.predict(x_test)"
   ]
  },
  {
   "cell_type": "code",
   "execution_count": 119,
   "id": "34593b7a-72ff-4caf-a36f-217ab65cd38c",
   "metadata": {
    "tags": []
   },
   "outputs": [
    {
     "data": {
      "text/plain": [
       "(19, 128, 24)"
      ]
     },
     "execution_count": 119,
     "metadata": {},
     "output_type": "execute_result"
    }
   ],
   "source": [
    "preds.shape"
   ]
  },
  {
   "cell_type": "code",
   "execution_count": 117,
   "id": "7677ba82-d616-4f3a-97df-e678969cd474",
   "metadata": {},
   "outputs": [
    {
     "name": "stdout",
     "output_type": "stream",
     "text": [
      "1/1 [==============================] - 0s 268ms/step - loss: 1.8341 - acc: 0.9922\n"
     ]
    }
   ],
   "source": [
    "loss, acc = model.evaluate(x_test, Y_test)"
   ]
  }
 ],
 "metadata": {
  "kernelspec": {
   "display_name": "Python 3",
   "language": "python",
   "name": "python3"
  },
  "language_info": {
   "codemirror_mode": {
    "name": "ipython",
    "version": 3
   },
   "file_extension": ".py",
   "mimetype": "text/x-python",
   "name": "python",
   "nbconvert_exporter": "python",
   "pygments_lexer": "ipython3",
   "version": "3.9.4"
  }
 },
 "nbformat": 4,
 "nbformat_minor": 5
}
